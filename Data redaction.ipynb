{
 "cells": [
  {
   "cell_type": "markdown",
   "id": "2173f4f8",
   "metadata": {},
   "source": [
    "# 1. Installation\n",
    "\n",
    "## Use pytesseract to implement OCR"
   ]
  },
  {
   "cell_type": "code",
   "execution_count": null,
   "id": "ca131b19",
   "metadata": {},
   "outputs": [],
   "source": [
    "pip install pytesseract"
   ]
  },
  {
   "cell_type": "markdown",
   "id": "f150eb0b",
   "metadata": {},
   "source": [
    "## Use Spacy for NLP, named entity recognition and text classification"
   ]
  },
  {
   "cell_type": "code",
   "execution_count": null,
   "id": "2b37b2c3",
   "metadata": {},
   "outputs": [],
   "source": [
    "pip install -U pip setuptools wheel\n",
    "pip install -U spacy"
   ]
  },
  {
   "cell_type": "markdown",
   "id": "26f3cf19",
   "metadata": {},
   "source": [
    "## Use Faker to generate fake data"
   ]
  },
  {
   "cell_type": "code",
   "execution_count": null,
   "id": "d69e6701",
   "metadata": {},
   "outputs": [],
   "source": [
    "pip install Faker"
   ]
  },
  {
   "cell_type": "markdown",
   "id": "66ec740b",
   "metadata": {},
   "source": [
    "## Use Pillow to process images"
   ]
  },
  {
   "cell_type": "code",
   "execution_count": null,
   "id": "5138d4e6",
   "metadata": {},
   "outputs": [],
   "source": [
    "pip install Pillow"
   ]
  },
  {
   "cell_type": "markdown",
   "id": "30759071",
   "metadata": {},
   "source": [
    "# 2. Setup\n",
    "\n",
    "## Download english dictionary from spacy"
   ]
  },
  {
   "cell_type": "code",
   "execution_count": null,
   "id": "396f96af",
   "metadata": {},
   "outputs": [],
   "source": [
    "import spacy\n",
    "spacy.cli.download('en_core_web_lg')"
   ]
  },
  {
   "cell_type": "markdown",
   "id": "72df107c",
   "metadata": {},
   "source": [
    "## Remember to save the font style in your directory that contains files for redaction\n",
    "To download the font style file, please refer to https://github.com/tiffanychum/Data-redaction"
   ]
  },
  {
   "cell_type": "markdown",
   "id": "926fca63",
   "metadata": {},
   "source": [
    "# 3. Import library"
   ]
  },
  {
   "cell_type": "code",
   "execution_count": 7,
   "id": "3a72e41e",
   "metadata": {},
   "outputs": [],
   "source": [
    "import spacy, re, os, faker, PIL, pytesseract\n",
    "from PIL import Image, ImageDraw, ImageSequence, ImageFont\n",
    "from pytesseract import Output\n",
    "from faker import Faker"
   ]
  },
  {
   "cell_type": "code",
   "execution_count": 3,
   "id": "465e321f",
   "metadata": {},
   "outputs": [],
   "source": [
    "# load the english dictionary\n",
    "nlp = spacy.load('en_core_web_lg')\n",
    "# set up font style\n",
    "font = ImageFont.truetype(\"roman-sign.ttf\", 22)\n",
    "# generate fake names\n",
    "faker = Faker()\n",
    "fake_names = [(faker.first_name()[0:5]) for x in range (100)]\n",
    "# your path\n",
    "gpath = '/Users/makszelai/Desktop/OCR/test/' "
   ]
  },
  {
   "cell_type": "code",
   "execution_count": 8,
   "id": "1a0c9859",
   "metadata": {},
   "outputs": [
    {
     "name": "stdout",
     "output_type": "stream",
     "text": [
      "['Nicholas Nelson', 'Eric Branch']\n",
      "[]\n",
      "Anonymized\n",
      "['GIB', 'GIB']\n",
      "[]\n",
      "Anonymized\n",
      "['Adam Brown Branch', 'halifax.co.uk/bankaccounts/overdrafts']\n",
      "['lendingstandardsboard']\n",
      "['Nina Stom', 'Nick Clasen']\n",
      "[]\n",
      "[]\n",
      "Anonymized\n",
      "['Ann-Marie', 'Ann-Marie Gallegos', 'York Close', 'giffgaffLondon GBR']\n",
      "[]\n",
      "Anonymized\n"
     ]
    }
   ],
   "source": [
    "class Redactor:\n",
    "    \n",
    "    def __init__(self, path):\n",
    "        self.path = path\n",
    "    \n",
    "    def anonymizer(self):\n",
    "        img = Image.open(gpath+self.path)\n",
    "        frames=[]\n",
    "        \n",
    "        #read image pages\n",
    "        for i, page in enumerate(ImageSequence.Iterator(img)):\n",
    "            page = page.copy()\n",
    "            d = pytesseract.image_to_data(page, output_type=Output.DICT)\n",
    "            text = pytesseract.image_to_string(page, lang='eng')\n",
    "            \n",
    "            #identify named entity\n",
    "            n1 = nlp(text)\n",
    "            names = [(ent.text).strip() for ent in n1.ents if ent.label_ == 'PERSON']\n",
    "            print(names) #show identified names\n",
    "            n_boxes = len(d['text'])\n",
    "            \n",
    "            # Redact and anonymize data\n",
    "            draw = ImageDraw.Draw(page) \n",
    "            for name in names:\n",
    "                names2=name.split(' ')\n",
    "                for i in range(n_boxes):\n",
    "                    if int(d['conf'][i]) > 60: #skip space or symbol\n",
    "                        for word in names2:\n",
    "                            if re.search(word, d['text'][i]):\n",
    "                                (x, y, w, h) = (d['left'][i], d['top'][i], d['width'][i], d['height'][i])\n",
    "                                draw.rectangle((x, y, x + w, y + h), outline='yellow', fill=(255,255,51))\n",
    "                                draw.text((x-1, y+3), random.choice(fake_names), fill = (0,0,0), font = font)\n",
    "\n",
    "            frames.append(page)\n",
    "\n",
    "        #save as redacted_\n",
    "        frames[0].save(gpath+'redacted_'+path, save_all=True, append_images=frames[1:])\n",
    "        print('Anonymized')\n",
    "        \n",
    "if __name__ == \"__main__\":    \n",
    "    file = os.listdir(gpath)\n",
    "    paths = [ e for e in file if '.tiff' in e ] #type of files\n",
    "    for path in paths:\n",
    "        redactor = Redactor(path)\n",
    "        redactor.anonymizer()"
   ]
  },
  {
   "cell_type": "code",
   "execution_count": null,
   "id": "a076aa7b",
   "metadata": {},
   "outputs": [],
   "source": []
  }
 ],
 "metadata": {
  "kernelspec": {
   "display_name": "Python 3 (ipykernel)",
   "language": "python",
   "name": "python3"
  },
  "language_info": {
   "codemirror_mode": {
    "name": "ipython",
    "version": 3
   },
   "file_extension": ".py",
   "mimetype": "text/x-python",
   "name": "python",
   "nbconvert_exporter": "python",
   "pygments_lexer": "ipython3",
   "version": "3.9.13"
  }
 },
 "nbformat": 4,
 "nbformat_minor": 5
}
