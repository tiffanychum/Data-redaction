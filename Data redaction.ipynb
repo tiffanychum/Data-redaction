{
 "cells": [
  {
   "cell_type": "markdown",
   "id": "9fd2ec3c",
   "metadata": {},
   "source": [
    "# 1. Installation\n",
    "\n",
    "## Use pytesseract to implement OCR"
   ]
  },
  {
   "cell_type": "code",
   "execution_count": null,
   "id": "cf6e4cf2",
   "metadata": {},
   "outputs": [],
   "source": [
    "pip install pytesseract"
   ]
  },
  {
   "cell_type": "markdown",
   "id": "b380894f",
   "metadata": {},
   "source": [
    "## Use Spacy for NLP, named entity recognition and text classification"
   ]
  },
  {
   "cell_type": "code",
   "execution_count": null,
   "id": "c515cc5b",
   "metadata": {},
   "outputs": [],
   "source": [
    "pip install spacy"
   ]
  },
  {
   "cell_type": "markdown",
   "id": "0e871baa",
   "metadata": {},
   "source": [
    "## Use Faker to generate fake data"
   ]
  },
  {
   "cell_type": "code",
   "execution_count": null,
   "id": "246c305d",
   "metadata": {},
   "outputs": [],
   "source": [
    "pip install Faker"
   ]
  },
  {
   "cell_type": "markdown",
   "id": "d927c369",
   "metadata": {},
   "source": [
    "## Use Pillow to process images"
   ]
  },
  {
   "cell_type": "code",
   "execution_count": null,
   "id": "2cefedea",
   "metadata": {},
   "outputs": [],
   "source": [
    "pip install Pillow"
   ]
  },
  {
   "cell_type": "markdown",
   "id": "4316d37f",
   "metadata": {},
   "source": [
    "# Download english dictionary for named entity recognition on spacy "
   ]
  },
  {
   "cell_type": "code",
   "execution_count": 2,
   "id": "4f474ded",
   "metadata": {},
   "outputs": [],
   "source": [
    "pip install en_core_web_lg"
   ]
  },
  {
   "cell_type": "markdown",
   "id": "53fd15f0",
   "metadata": {},
   "source": [
    "## Remember to save the font style in your directory that contains files for redaction\n",
    "To download the font style file, please refer to https://github.com/tiffanychum/Data-redaction"
   ]
  },
  {
   "cell_type": "markdown",
   "id": "f582b820",
   "metadata": {},
   "source": [
    "# 2. Setup\n",
    "Raise a request on Service Now to download Tesseract on your HSBC laptop by searching **Open source OCR engine 5**"
   ]
  },
  {
   "cell_type": "markdown",
   "id": "1a512784",
   "metadata": {},
   "source": [
    "# 3. Import library"
   ]
  },
  {
   "cell_type": "code",
   "execution_count": 6,
   "id": "2676805d",
   "metadata": {},
   "outputs": [],
   "source": [
    "import spacy, re, os, faker, PIL, pytesseract, en_core_web_lg, random\n",
    "from PIL import Image, ImageDraw, ImageSequence, ImageFont\n",
    "from pytesseract import Output\n",
    "from faker import Faker"
   ]
  },
  {
   "cell_type": "code",
   "execution_count": 4,
   "id": "adb68cc9",
   "metadata": {},
   "outputs": [],
   "source": [
    "# load the english dictionary\n",
    "nlp = en_core_web_lg.load()\n",
    "# set up font style\n",
    "font = ImageFont.truetype(\"roman-sign.ttf\", 22)\n",
    "# generate fake names\n",
    "faker = Faker()\n",
    "fake_names = [(faker.first_name()[0:5]) for x in range (100)]\n",
    "# your path\n",
    "gpath = '/Users/makszelai/Desktop/OCR/test/' "
   ]
  },
  {
   "cell_type": "code",
   "execution_count": 7,
   "id": "3ef6c728",
   "metadata": {},
   "outputs": [
    {
     "name": "stdout",
     "output_type": "stream",
     "text": [
      "['Alessio Huynh', 'Alessio Huynh\\n\\nFlat', 'London GBR']\n",
      "Anonymized\n",
      "['Jarred Leech', 'Maria Danis']\n",
      "[]\n",
      "Anonymized\n",
      "['Nicholas Nelson', 'Eric Branch']\n",
      "[]\n",
      "Anonymized\n",
      "['Adam Brown Branch', 'halifax.co.uk/bankaccounts/overdrafts']\n",
      "['lendingstandardsboard']\n",
      "['Nina Stom', 'Nick Clasen']\n",
      "[]\n",
      "[]\n",
      "Anonymized\n",
      "['Stephanie Casey', 'Jeffery Fords Apt']\n",
      "[]\n",
      "Anonymized\n",
      "['Ann-Marie', 'Ann-Marie Gallegos', 'York Close', 'giffgaffLondon GBR']\n",
      "[]\n",
      "Anonymized\n"
     ]
    }
   ],
   "source": [
    "class Redactor:\n",
    "    \n",
    "    def __init__(self, path):\n",
    "        self.path = path\n",
    "    \n",
    "    def anonymizer(self):\n",
    "        img = Image.open(gpath+self.path)\n",
    "        frames=[]\n",
    "        \n",
    "        #read image pages\n",
    "        for i, page in enumerate(ImageSequence.Iterator(img)):\n",
    "            page = page.copy()\n",
    "            d = pytesseract.image_to_data(page, output_type=Output.DICT)\n",
    "            text = pytesseract.image_to_string(page, lang='eng')\n",
    "            \n",
    "            #identify named entity\n",
    "            n1 = nlp(text)\n",
    "            names = [(ent.text).strip() for ent in n1.ents if ent.label_ == 'PERSON']\n",
    "            print(names) #show identified names\n",
    "            n_boxes = len(d['text'])\n",
    "            \n",
    "            # Redact and anonymize data\n",
    "            draw = ImageDraw.Draw(page) \n",
    "            for name in names:\n",
    "                names2=name.split(' ')\n",
    "                for i in range(n_boxes):\n",
    "                    if int(d['conf'][i]) > 60: #skip space or symbol\n",
    "                        for word in names2:\n",
    "                            if re.search(word, d['text'][i]):\n",
    "                                (x, y, w, h) = (d['left'][i], d['top'][i], d['width'][i], d['height'][i])\n",
    "                                draw.rectangle((x, y, x + w, y + h), outline='yellow', fill=(255,255,51))\n",
    "                                draw.text((x-1, y+3), random.choice(fake_names), fill = (0,0,0), font = font)\n",
    "\n",
    "            frames.append(page)\n",
    "\n",
    "        #save as redacted_\n",
    "        frames[0].save(gpath+'redacted_'+path, save_all=True, append_images=frames[1:])\n",
    "        print('Anonymized')\n",
    "        \n",
    "if __name__ == \"__main__\":    \n",
    "    file = os.listdir(gpath)\n",
    "    paths = [ e for e in file if '.tiff' in e ] #type of files\n",
    "    for path in paths:\n",
    "        redactor = Redactor(path)\n",
    "        redactor.anonymizer()"
   ]
  }
 ],
 "metadata": {
  "kernelspec": {
   "display_name": "Python 3 (ipykernel)",
   "language": "python",
   "name": "python3"
  },
  "language_info": {
   "codemirror_mode": {
    "name": "ipython",
    "version": 3
   },
   "file_extension": ".py",
   "mimetype": "text/x-python",
   "name": "python",
   "nbconvert_exporter": "python",
   "pygments_lexer": "ipython3",
   "version": "3.9.13"
  }
 },
 "nbformat": 4,
 "nbformat_minor": 5
}
